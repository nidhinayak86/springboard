{
 "cells": [
  {
   "cell_type": "markdown",
   "metadata": {},
   "source": [
    "# Data wrangling in Bimbo"
   ]
  },
  {
   "cell_type": "code",
   "execution_count": 3,
   "metadata": {
    "collapsed": false
   },
   "outputs": [],
   "source": [
    "%matplotlib inline\n",
    "import pandas as pd\n",
    "import numpy as np\n",
    "import matplotlib.pyplot as plt\n",
    "import os\n",
    "from IPython.display import display_markdown as mkdown # as print"
   ]
  },
  {
   "cell_type": "markdown",
   "metadata": {},
   "source": [
    "## printing various files in Bimbo data set"
   ]
  },
  {
   "cell_type": "code",
   "execution_count": 4,
   "metadata": {
    "collapsed": false
   },
   "outputs": [
    {
     "name": "stdout",
     "output_type": "stream",
     "text": [
      "cliente_tabla.csv             21.0MB\n",
      "sample_submission.csv.zip     15.0MB\n",
      "sample_submission.csv         68.0MB\n",
      "town_state.csv                0.0MB\n",
      "test.csv.zip                  89.0MB\n",
      "DataCleaning.ipynb            0.0MB\n",
      ".ipynb_checkpoints            0.0MB\n",
      "clients_encoded.csv           17.0MB\n",
      "cliente_tabla.csv.zip         6.0MB\n",
      "train.csv                     3199.0MB\n",
      "town_encoded.csv              0.0MB\n",
      "BimboDatawrangling.ipynb      0.0MB\n",
      "Untitled.ipynb                0.0MB\n",
      "bimbo datawrangling.ipynb     0.0MB\n",
      "town_state.csv.zip            0.0MB\n",
      "test.csv                      251.0MB\n",
      "producto_tabla.csv.zip        0.0MB\n",
      "products_encoded.csv          10.0MB\n",
      "producto_tabla.csv            0.0MB\n",
      "train.csv.zip                 390.0MB\n",
      "pyspark Testing.ipynb         0.0MB\n"
     ]
    }
   ],
   "source": [
    "def nl():\n",
    "    print('\\n')\n",
    "\n",
    "for f in os.listdir('.'):\n",
    "    print(f.ljust(30) + str(round(os.path.getsize('' + f) / 1000000, 2)) + 'MB')\n"
   ]
  },
  {
   "cell_type": "markdown",
   "metadata": {},
   "source": [
    "## Reading test and train samples\n",
    "### printing statistics of columns in test and train sample\n",
    "#### just reading 50000 rows other wise it will hang up"
   ]
  },
  {
   "cell_type": "code",
   "execution_count": 5,
   "metadata": {
    "collapsed": false,
    "scrolled": false
   },
   "outputs": [
    {
     "name": "stdout",
     "output_type": "stream",
     "text": [
      "\n",
      "\n",
      "Size of training set: (50000, 11)\n",
      " Size of testing set: (50000, 7)\n",
      "\n",
      "\n",
      "Columns in train: ['Semana', 'Agencia_ID', 'Canal_ID', 'Ruta_SAK', 'Cliente_ID', 'Producto_ID', 'Venta_uni_hoy', 'Venta_hoy', 'Dev_uni_proxima', 'Dev_proxima', 'Demanda_uni_equil']\n",
      " Columns in test: ['id', 'Semana', 'Agencia_ID', 'Canal_ID', 'Ruta_SAK', 'Cliente_ID', 'Producto_ID']\n",
      "\n",
      "\n",
      "        Semana    Agencia_ID      Canal_ID      Ruta_SAK    Cliente_ID  \\\n",
      "count  50000.0  50000.000000  50000.000000  50000.000000  5.000000e+04   \n",
      "mean       3.0   1110.839720      2.023060   1590.024620  1.185439e+06   \n",
      "std        0.0      0.366869      2.383351    782.593183  1.535725e+06   \n",
      "min        3.0   1110.000000      1.000000   1001.000000  1.407500e+04   \n",
      "25%        3.0   1111.000000      1.000000   1025.000000  6.160800e+04   \n",
      "50%        3.0   1111.000000      1.000000   1407.000000  4.196910e+05   \n",
      "75%        3.0   1111.000000      1.000000   1423.000000  1.883449e+06   \n",
      "max        3.0   1111.000000     11.000000   3504.000000  9.678222e+06   \n",
      "\n",
      "        Producto_ID  Venta_uni_hoy     Venta_hoy  Dev_uni_proxima  \\\n",
      "count  50000.000000   50000.000000  50000.000000     50000.000000   \n",
      "mean    9832.619320       7.506940     77.683413         0.121760   \n",
      "std    15258.624002      25.184054    218.415870         5.626548   \n",
      "min       72.000000       0.000000      0.000000         0.000000   \n",
      "25%     1212.000000       2.000000     21.320000         0.000000   \n",
      "50%     1250.000000       4.000000     41.000000         0.000000   \n",
      "75%     4910.000000       8.000000     79.280000         0.000000   \n",
      "max    49994.000000    2000.000000  15561.000000      1008.000000   \n",
      "\n",
      "        Dev_proxima  Demanda_uni_equil  \n",
      "count  50000.000000       50000.000000  \n",
      "mean       1.208314           7.459160  \n",
      "std       24.686499          25.180772  \n",
      "min        0.000000           0.000000  \n",
      "25%        0.000000           2.000000  \n",
      "50%        0.000000           4.000000  \n",
      "75%        0.000000           8.000000  \n",
      "max     3030.880000        2000.000000  \n"
     ]
    }
   ],
   "source": [
    "df_train = pd.read_csv('train.csv',nrows=50000)\n",
    "df_test = pd.read_csv('test.csv',nrows=50000)\n",
    "\n",
    "nl()\n",
    "print('Size of training set: ' + str(df_train.shape))\n",
    "print(' Size of testing set: ' + str(df_test.shape))\n",
    "\n",
    "nl()\n",
    "print('Columns in train: ' + str(df_train.columns.tolist()))\n",
    "print(' Columns in test: ' + str(df_test.columns.tolist()))\n",
    "\n",
    "nl()\n",
    "print(df_train.describe())"
   ]
  },
  {
   "cell_type": "markdown",
   "metadata": {},
   "source": [
    "### Trying to varify plot the histogram to see the Demanda_uni_equil column which we need to predict\n"
   ]
  },
  {
   "cell_type": "code",
   "execution_count": 6,
   "metadata": {
    "collapsed": false
   },
   "outputs": [
    {
     "data": {
      "image/png": "[encoded data removed]",
      "text/plain": [
       "<matplotlib.figure.Figure at 0x7f7b5040df90>"
      ]
     },
     "metadata": {},
     "output_type": "display_data"
    },
    {
     "name": "stdout",
     "output_type": "stream",
     "text": [
      "Looks like we have some pretty big outliers, let's zoom in and try again\n",
      "Data with target values under 50: 99.0%\n"
     ]
    },
    {
     "data": {
      "image/png": "[encoded data removed]",
      "text/plain": [
       "<matplotlib.figure.Figure at 0x7f7b11ea75d0>"
      ]
     },
     "metadata": {},
     "output_type": "display_data"
    }
   ],
   "source": [
    "target = df_train['Demanda_uni_equil'].tolist()\n",
    "\n",
    "def label_plot(title, x, y):\n",
    "    plt.title(title)\n",
    "    plt.xlabel(x)\n",
    "    plt.ylabel(y)\n",
    "\n",
    "plt.hist(target, bins=200, color='blue')\n",
    "label_plot('Distribution of target values', 'Demanda_uni_equil', 'Count')\n",
    "plt.show()\n",
    "\n",
    "print(\"Looks like we have some pretty big outliers, let's zoom in and try again\")\n",
    "\n",
    "print('Data with target values under 50: ' + str(round(len(df_train.loc[df_train['Demanda_uni_equil'] <= 50]) / 500, 2)) + '%')\n",
    "\n",
    "plt.hist(target, bins=50, color='blue', range=(0, 50))\n",
    "label_plot('Distribution of target values under 50', 'Demanda_uni_equil', 'Count')\n",
    "plt.show()"
   ]
  },
  {
   "cell_type": "markdown",
   "metadata": {
    "collapsed": true
   },
   "source": [
    "# Data cleaning in clent table"
   ]
  },
  {
   "cell_type": "code",
   "execution_count": 8,
   "metadata": {
    "collapsed": false
   },
   "outputs": [],
   "source": [
    "df=pd.read_csv('cliente_tabla.csv', index_col=0)"
   ]
  },
  {
   "cell_type": "code",
   "execution_count": 9,
   "metadata": {
    "collapsed": false
   },
   "outputs": [
    {
     "data": {
      "text/plain": [
       "935362"
      ]
     },
     "execution_count": 9,
     "metadata": {},
     "output_type": "execute_result"
    }
   ],
   "source": [
    "len(df)\n",
    "len(df.NombreCliente)\n",
    "len(df['NombreCliente'])"
   ]
  },
  {
   "cell_type": "code",
   "execution_count": 15,
   "metadata": {
    "collapsed": false
   },
   "outputs": [
    {
     "data": {
      "text/html": [
       "<div>\n",
       "<table border=\"1\" class=\"dataframe\">\n",
       "  <thead>\n",
       "    <tr style=\"text-align: right;\">\n",
       "      <th></th>\n",
       "      <th>NombreCliente</th>\n",
       "    </tr>\n",
       "    <tr>\n",
       "      <th>Cliente_ID</th>\n",
       "      <th></th>\n",
       "    </tr>\n",
       "  </thead>\n",
       "  <tbody>\n",
       "    <tr>\n",
       "      <th>0</th>\n",
       "      <td>SIN NOMBRE</td>\n",
       "    </tr>\n",
       "    <tr>\n",
       "      <th>1</th>\n",
       "      <td>OXXO XINANTECATL</td>\n",
       "    </tr>\n",
       "    <tr>\n",
       "      <th>2</th>\n",
       "      <td>SIN NOMBRE</td>\n",
       "    </tr>\n",
       "    <tr>\n",
       "      <th>3</th>\n",
       "      <td>EL MORENO</td>\n",
       "    </tr>\n",
       "    <tr>\n",
       "      <th>4</th>\n",
       "      <td>SDN SER  DE ALIM  CUERPO SA CIA  DE INT</td>\n",
       "    </tr>\n",
       "  </tbody>\n",
       "</table>\n",
       "</div>"
      ],
      "text/plain": [
       "                                      NombreCliente\n",
       "Cliente_ID                                         \n",
       "0                                        SIN NOMBRE\n",
       "1                                  OXXO XINANTECATL\n",
       "2                                        SIN NOMBRE\n",
       "3                                         EL MORENO\n",
       "4           SDN SER  DE ALIM  CUERPO SA CIA  DE INT"
      ]
     },
     "execution_count": 15,
     "metadata": {},
     "output_type": "execute_result"
    }
   ],
   "source": [
    "client=df\n",
    "client.head()"
   ]
  },
  {
   "cell_type": "code",
   "execution_count": 11,
   "metadata": {
    "collapsed": false
   },
   "outputs": [
    {
     "data": {
      "text/html": [
       "<div>\n",
       "<table border=\"1\" class=\"dataframe\">\n",
       "  <thead>\n",
       "    <tr style=\"text-align: right;\">\n",
       "      <th></th>\n",
       "      <th>NombreCliente</th>\n",
       "    </tr>\n",
       "    <tr>\n",
       "      <th>Cliente_ID</th>\n",
       "      <th></th>\n",
       "    </tr>\n",
       "  </thead>\n",
       "  <tbody>\n",
       "    <tr>\n",
       "      <th>2465096</th>\n",
       "      <td>NO IDENTIFICADO</td>\n",
       "    </tr>\n",
       "    <tr>\n",
       "      <th>2465098</th>\n",
       "      <td>NO IDENTIFICADO</td>\n",
       "    </tr>\n",
       "    <tr>\n",
       "      <th>2465102</th>\n",
       "      <td>NO IDENTIFICADO</td>\n",
       "    </tr>\n",
       "    <tr>\n",
       "      <th>2465104</th>\n",
       "      <td>NO IDENTIFICADO</td>\n",
       "    </tr>\n",
       "    <tr>\n",
       "      <th>2465105</th>\n",
       "      <td>NO IDENTIFICADO</td>\n",
       "    </tr>\n",
       "  </tbody>\n",
       "</table>\n",
       "</div>"
      ],
      "text/plain": [
       "              NombreCliente\n",
       "Cliente_ID                 \n",
       "2465096     NO IDENTIFICADO\n",
       "2465098     NO IDENTIFICADO\n",
       "2465102     NO IDENTIFICADO\n",
       "2465104     NO IDENTIFICADO\n",
       "2465105     NO IDENTIFICADO"
      ]
     },
     "execution_count": 11,
     "metadata": {},
     "output_type": "execute_result"
    }
   ],
   "source": [
    "c= client\n",
    "c = c[c.NombreCliente == 'NO IDENTIFICADO']\n",
    "c.head(5)"
   ]
  },
  {
   "cell_type": "code",
   "execution_count": 12,
   "metadata": {
    "collapsed": false
   },
   "outputs": [
    {
     "data": {
      "text/plain": [
       "281670"
      ]
     },
     "execution_count": 12,
     "metadata": {},
     "output_type": "execute_result"
    }
   ],
   "source": [
    "len(c)"
   ]
  },
  {
   "cell_type": "markdown",
   "metadata": {},
   "source": [
    "###  replacing NO IDENTIFICADO with nan for better ploting "
   ]
  },
  {
   "cell_type": "code",
   "execution_count": 16,
   "metadata": {
    "collapsed": false,
    "scrolled": false
   },
   "outputs": [
    {
     "data": {
      "text/html": [
       "<div>\n",
       "<table border=\"1\" class=\"dataframe\">\n",
       "  <thead>\n",
       "    <tr style=\"text-align: right;\">\n",
       "      <th></th>\n",
       "      <th>NombreCliente</th>\n",
       "    </tr>\n",
       "    <tr>\n",
       "      <th>Cliente_ID</th>\n",
       "      <th></th>\n",
       "    </tr>\n",
       "  </thead>\n",
       "  <tbody>\n",
       "    <tr>\n",
       "      <th>10351790</th>\n",
       "      <td>OXXO ALAMO II</td>\n",
       "    </tr>\n",
       "    <tr>\n",
       "      <th>10351796</th>\n",
       "      <td>OXXO ALAMO</td>\n",
       "    </tr>\n",
       "    <tr>\n",
       "      <th>10351802</th>\n",
       "      <td>OXXO IDOLO II</td>\n",
       "    </tr>\n",
       "    <tr>\n",
       "      <th>10351808</th>\n",
       "      <td>OXXO TUXPAM TAMIAHUA</td>\n",
       "    </tr>\n",
       "    <tr>\n",
       "      <th>10351814</th>\n",
       "      <td>OXXO DE LA LLAVE</td>\n",
       "    </tr>\n",
       "    <tr>\n",
       "      <th>11011586</th>\n",
       "      <td>OXXO PETEN</td>\n",
       "    </tr>\n",
       "    <tr>\n",
       "      <th>11693264</th>\n",
       "      <td>SUPER ABARROTES MARY</td>\n",
       "    </tr>\n",
       "    <tr>\n",
       "      <th>19988629</th>\n",
       "      <td>NaN</td>\n",
       "    </tr>\n",
       "    <tr>\n",
       "      <th>99999999</th>\n",
       "      <td>NaN</td>\n",
       "    </tr>\n",
       "    <tr>\n",
       "      <th>2015152015</th>\n",
       "      <td>NaN</td>\n",
       "    </tr>\n",
       "  </tbody>\n",
       "</table>\n",
       "</div>"
      ],
      "text/plain": [
       "                   NombreCliente\n",
       "Cliente_ID                      \n",
       "10351790           OXXO ALAMO II\n",
       "10351796              OXXO ALAMO\n",
       "10351802           OXXO IDOLO II\n",
       "10351808    OXXO TUXPAM TAMIAHUA\n",
       "10351814        OXXO DE LA LLAVE\n",
       "11011586              OXXO PETEN\n",
       "11693264    SUPER ABARROTES MARY\n",
       "19988629                     NaN\n",
       "99999999                     NaN\n",
       "2015152015                   NaN"
      ]
     },
     "execution_count": 16,
     "metadata": {},
     "output_type": "execute_result"
    }
   ],
   "source": [
    "client.replace('NO IDENTIFICADO', np.nan, inplace=True)\n",
    "client.tail(10)"
   ]
  },
  {
   "cell_type": "markdown",
   "metadata": {},
   "source": [
    "# ploting histogram to see if more columns has multiple values "
   ]
  },
  {
   "cell_type": "code",
   "execution_count": 14,
   "metadata": {
    "collapsed": false
   },
   "outputs": [
    {
     "data": {
      "text/plain": [
       "<matplotlib.axes._subplots.AxesSubplot at 0x7f7b0878bc50>"
      ]
     },
     "execution_count": 14,
     "metadata": {},
     "output_type": "execute_result"
    },
    {
     "data": {
      "image/png": "[encoded data removed]",
      "text/plain": [
       "<matplotlib.figure.Figure at 0x7f7b16670710>"
      ]
     },
     "metadata": {},
     "output_type": "display_data"
    }
   ],
   "source": [
    "client[client.NombreCliente!= np.nan].NombreCliente.head(20).value_counts().plot(kind='bar')"
   ]
  },
  {
   "cell_type": "markdown",
   "metadata": {},
   "source": [
    "### replacing SIN NOMBRE with nan too as per histogram that means in english as no name"
   ]
  },
  {
   "cell_type": "code",
   "execution_count": 18,
   "metadata": {
    "collapsed": false
   },
   "outputs": [
    {
     "data": {
      "text/html": [
       "<div>\n",
       "<table border=\"1\" class=\"dataframe\">\n",
       "  <thead>\n",
       "    <tr style=\"text-align: right;\">\n",
       "      <th></th>\n",
       "      <th>NombreCliente</th>\n",
       "    </tr>\n",
       "    <tr>\n",
       "      <th>Cliente_ID</th>\n",
       "      <th></th>\n",
       "    </tr>\n",
       "  </thead>\n",
       "  <tbody>\n",
       "    <tr>\n",
       "      <th>0</th>\n",
       "      <td>NaN</td>\n",
       "    </tr>\n",
       "    <tr>\n",
       "      <th>1</th>\n",
       "      <td>OXXO XINANTECATL</td>\n",
       "    </tr>\n",
       "    <tr>\n",
       "      <th>2</th>\n",
       "      <td>NaN</td>\n",
       "    </tr>\n",
       "    <tr>\n",
       "      <th>3</th>\n",
       "      <td>EL MORENO</td>\n",
       "    </tr>\n",
       "    <tr>\n",
       "      <th>4</th>\n",
       "      <td>SDN SER  DE ALIM  CUERPO SA CIA  DE INT</td>\n",
       "    </tr>\n",
       "    <tr>\n",
       "      <th>4</th>\n",
       "      <td>SDN SER DE ALIM CUERPO SA CIA DE INT</td>\n",
       "    </tr>\n",
       "    <tr>\n",
       "      <th>5</th>\n",
       "      <td>LA VAQUITA</td>\n",
       "    </tr>\n",
       "    <tr>\n",
       "      <th>6</th>\n",
       "      <td>LUPITA</td>\n",
       "    </tr>\n",
       "    <tr>\n",
       "      <th>7</th>\n",
       "      <td>I M EL GUERO</td>\n",
       "    </tr>\n",
       "    <tr>\n",
       "      <th>8</th>\n",
       "      <td>MINI SUPER LOS LUPES</td>\n",
       "    </tr>\n",
       "  </tbody>\n",
       "</table>\n",
       "</div>"
      ],
      "text/plain": [
       "                                      NombreCliente\n",
       "Cliente_ID                                         \n",
       "0                                               NaN\n",
       "1                                  OXXO XINANTECATL\n",
       "2                                               NaN\n",
       "3                                         EL MORENO\n",
       "4           SDN SER  DE ALIM  CUERPO SA CIA  DE INT\n",
       "4              SDN SER DE ALIM CUERPO SA CIA DE INT\n",
       "5                                        LA VAQUITA\n",
       "6                                            LUPITA\n",
       "7                                      I M EL GUERO\n",
       "8                              MINI SUPER LOS LUPES"
      ]
     },
     "execution_count": 18,
     "metadata": {},
     "output_type": "execute_result"
    }
   ],
   "source": [
    "client.replace('SIN NOMBRE', np.nan, inplace=True)\n",
    "client.head(10)"
   ]
  },
  {
   "cell_type": "markdown",
   "metadata": {},
   "source": [
    "# product table cleaning and organising"
   ]
  },
  {
   "cell_type": "code",
   "execution_count": 19,
   "metadata": {
    "collapsed": false
   },
   "outputs": [
    {
     "name": "stdout",
     "output_type": "stream",
     "text": [
      "<class 'pandas.core.frame.DataFrame'>\n",
      "RangeIndex: 2592 entries, 0 to 2591\n",
      "Data columns (total 2 columns):\n",
      "Producto_ID       2592 non-null int64\n",
      "NombreProducto    2592 non-null object\n",
      "dtypes: int64(1), object(1)\n",
      "memory usage: 40.6+ KB\n"
     ]
    }
   ],
   "source": [
    "products = pd.read_csv('producto_tabla.csv')\n",
    "products.info()"
   ]
  },
  {
   "cell_type": "code",
   "execution_count": 21,
   "metadata": {
    "collapsed": false
   },
   "outputs": [
    {
     "data": {
      "text/html": [
       "<div>\n",
       "<table border=\"1\" class=\"dataframe\">\n",
       "  <thead>\n",
       "    <tr style=\"text-align: right;\">\n",
       "      <th></th>\n",
       "      <th>Producto_ID</th>\n",
       "      <th>NombreProducto</th>\n",
       "    </tr>\n",
       "  </thead>\n",
       "  <tbody>\n",
       "    <tr>\n",
       "      <th>0</th>\n",
       "      <td>0</td>\n",
       "      <td>NO IDENTIFICADO 0</td>\n",
       "    </tr>\n",
       "    <tr>\n",
       "      <th>1</th>\n",
       "      <td>9</td>\n",
       "      <td>Capuccino Moka 750g NES 9</td>\n",
       "    </tr>\n",
       "    <tr>\n",
       "      <th>2</th>\n",
       "      <td>41</td>\n",
       "      <td>Bimbollos Ext sAjonjoli 6p 480g BIM 41</td>\n",
       "    </tr>\n",
       "    <tr>\n",
       "      <th>3</th>\n",
       "      <td>53</td>\n",
       "      <td>Burritos Sincro 170g CU LON 53</td>\n",
       "    </tr>\n",
       "    <tr>\n",
       "      <th>4</th>\n",
       "      <td>72</td>\n",
       "      <td>Div Tira Mini Doradita 4p 45g TR 72</td>\n",
       "    </tr>\n",
       "    <tr>\n",
       "      <th>5</th>\n",
       "      <td>73</td>\n",
       "      <td>Pan Multigrano Linaza 540g BIM 73</td>\n",
       "    </tr>\n",
       "    <tr>\n",
       "      <th>6</th>\n",
       "      <td>98</td>\n",
       "      <td>Tostado Integral 180g WON 98</td>\n",
       "    </tr>\n",
       "    <tr>\n",
       "      <th>7</th>\n",
       "      <td>99</td>\n",
       "      <td>Pan Blanco 567g WON 99</td>\n",
       "    </tr>\n",
       "    <tr>\n",
       "      <th>8</th>\n",
       "      <td>100</td>\n",
       "      <td>Super Pan Bco Ajonjoli 680g SP WON 100</td>\n",
       "    </tr>\n",
       "    <tr>\n",
       "      <th>9</th>\n",
       "      <td>106</td>\n",
       "      <td>Wonder 100pct mediano 475g WON 106</td>\n",
       "    </tr>\n",
       "  </tbody>\n",
       "</table>\n",
       "</div>"
      ],
      "text/plain": [
       "   Producto_ID                          NombreProducto\n",
       "0            0                       NO IDENTIFICADO 0\n",
       "1            9               Capuccino Moka 750g NES 9\n",
       "2           41  Bimbollos Ext sAjonjoli 6p 480g BIM 41\n",
       "3           53          Burritos Sincro 170g CU LON 53\n",
       "4           72     Div Tira Mini Doradita 4p 45g TR 72\n",
       "5           73       Pan Multigrano Linaza 540g BIM 73\n",
       "6           98            Tostado Integral 180g WON 98\n",
       "7           99                  Pan Blanco 567g WON 99\n",
       "8          100  Super Pan Bco Ajonjoli 680g SP WON 100\n",
       "9          106      Wonder 100pct mediano 475g WON 106"
      ]
     },
     "execution_count": 21,
     "metadata": {},
     "output_type": "execute_result"
    }
   ],
   "source": [
    "products.head(10)"
   ]
  },
  {
   "cell_type": "markdown",
   "metadata": {},
   "source": [
    "## Products attributes are filled in same column .\n",
    "### Need to fill them is separate columns to identify\n",
    "### products based on same product name but different attributes"
   ]
  },
  {
   "cell_type": "code",
   "execution_count": 22,
   "metadata": {
    "collapsed": false
   },
   "outputs": [
    {
     "name": "stdout",
     "output_type": "stream",
     "text": [
      "<class 'pandas.core.frame.DataFrame'>\n",
      "RangeIndex: 2592 entries, 0 to 2591\n",
      "Columns: 1023 entries, Producto_ID to pct Whole Wheat\n",
      "dtypes: float64(1017), int64(1), object(5)\n",
      "memory usage: 20.2+ MB\n"
     ]
    }
   ],
   "source": [
    "products['grams'] = products.NombreProducto.str.extract('.* (\\d+)g.*', expand=False)\n",
    "products['ml'] = products.NombreProducto.str.extract('.* (\\d+)ml.*', expand=False)\n",
    "products['inches'] = products.NombreProducto.str.extract('.* (\\d+)in.*', expand=False)\n",
    "products['pct'] = products.NombreProducto.str.extract('.* (\\d+)pct.*', expand=False)\n",
    "products['pieces'] = products.NombreProducto.str.extract('.* (\\d+)p.*', expand=False)\n",
    "labels = products.NombreProducto.str.extract('([^\\d]+) \\d+.*', expand=False)\n",
    "pr = pd.concat([products.drop('NombreProducto', axis=1),\n",
    "                pd.get_dummies(labels)],\n",
    "               axis=1)\n",
    "pr.info()"
   ]
  },
  {
   "cell_type": "code",
   "execution_count": 23,
   "metadata": {
    "collapsed": false
   },
   "outputs": [
    {
     "data": {
      "text/html": [
       "<div>\n",
       "<table border=\"1\" class=\"dataframe\">\n",
       "  <thead>\n",
       "    <tr style=\"text-align: right;\">\n",
       "      <th></th>\n",
       "      <th>Producto_ID</th>\n",
       "      <th>grams</th>\n",
       "      <th>ml</th>\n",
       "      <th>inches</th>\n",
       "      <th>pct</th>\n",
       "      <th>pieces</th>\n",
       "      <th>Beso Nuez</th>\n",
       "      <th>Granos</th>\n",
       "      <th>Tarima MiniMilk Kitty Nav</th>\n",
       "      <th>ActiFresh Menta</th>\n",
       "      <th>...</th>\n",
       "      <th>Wonderbutter</th>\n",
       "      <th>g BAR</th>\n",
       "      <th>g Cj MTA MLA</th>\n",
       "      <th>g GBI</th>\n",
       "      <th>g MLA</th>\n",
       "      <th>g Prom CUB SAN</th>\n",
       "      <th>g Temp GBI</th>\n",
       "      <th>gCU LON</th>\n",
       "      <th>gMTA MLA</th>\n",
       "      <th>pct Whole Wheat</th>\n",
       "    </tr>\n",
       "  </thead>\n",
       "  <tbody>\n",
       "    <tr>\n",
       "      <th>0</th>\n",
       "      <td>0</td>\n",
       "      <td>NaN</td>\n",
       "      <td>NaN</td>\n",
       "      <td>NaN</td>\n",
       "      <td>NaN</td>\n",
       "      <td>NaN</td>\n",
       "      <td>0.0</td>\n",
       "      <td>0.0</td>\n",
       "      <td>0.0</td>\n",
       "      <td>0.0</td>\n",
       "      <td>...</td>\n",
       "      <td>0.0</td>\n",
       "      <td>0.0</td>\n",
       "      <td>0.0</td>\n",
       "      <td>0.0</td>\n",
       "      <td>0.0</td>\n",
       "      <td>0.0</td>\n",
       "      <td>0.0</td>\n",
       "      <td>0.0</td>\n",
       "      <td>0.0</td>\n",
       "      <td>0.0</td>\n",
       "    </tr>\n",
       "    <tr>\n",
       "      <th>1</th>\n",
       "      <td>9</td>\n",
       "      <td>750</td>\n",
       "      <td>NaN</td>\n",
       "      <td>NaN</td>\n",
       "      <td>NaN</td>\n",
       "      <td>NaN</td>\n",
       "      <td>0.0</td>\n",
       "      <td>0.0</td>\n",
       "      <td>0.0</td>\n",
       "      <td>0.0</td>\n",
       "      <td>...</td>\n",
       "      <td>0.0</td>\n",
       "      <td>0.0</td>\n",
       "      <td>0.0</td>\n",
       "      <td>0.0</td>\n",
       "      <td>0.0</td>\n",
       "      <td>0.0</td>\n",
       "      <td>0.0</td>\n",
       "      <td>0.0</td>\n",
       "      <td>0.0</td>\n",
       "      <td>0.0</td>\n",
       "    </tr>\n",
       "    <tr>\n",
       "      <th>2</th>\n",
       "      <td>41</td>\n",
       "      <td>480</td>\n",
       "      <td>NaN</td>\n",
       "      <td>NaN</td>\n",
       "      <td>NaN</td>\n",
       "      <td>6</td>\n",
       "      <td>0.0</td>\n",
       "      <td>0.0</td>\n",
       "      <td>0.0</td>\n",
       "      <td>0.0</td>\n",
       "      <td>...</td>\n",
       "      <td>0.0</td>\n",
       "      <td>0.0</td>\n",
       "      <td>0.0</td>\n",
       "      <td>0.0</td>\n",
       "      <td>0.0</td>\n",
       "      <td>0.0</td>\n",
       "      <td>0.0</td>\n",
       "      <td>0.0</td>\n",
       "      <td>0.0</td>\n",
       "      <td>0.0</td>\n",
       "    </tr>\n",
       "    <tr>\n",
       "      <th>3</th>\n",
       "      <td>53</td>\n",
       "      <td>170</td>\n",
       "      <td>NaN</td>\n",
       "      <td>NaN</td>\n",
       "      <td>NaN</td>\n",
       "      <td>NaN</td>\n",
       "      <td>0.0</td>\n",
       "      <td>0.0</td>\n",
       "      <td>0.0</td>\n",
       "      <td>0.0</td>\n",
       "      <td>...</td>\n",
       "      <td>0.0</td>\n",
       "      <td>0.0</td>\n",
       "      <td>0.0</td>\n",
       "      <td>0.0</td>\n",
       "      <td>0.0</td>\n",
       "      <td>0.0</td>\n",
       "      <td>0.0</td>\n",
       "      <td>0.0</td>\n",
       "      <td>0.0</td>\n",
       "      <td>0.0</td>\n",
       "    </tr>\n",
       "    <tr>\n",
       "      <th>4</th>\n",
       "      <td>72</td>\n",
       "      <td>45</td>\n",
       "      <td>NaN</td>\n",
       "      <td>NaN</td>\n",
       "      <td>NaN</td>\n",
       "      <td>4</td>\n",
       "      <td>0.0</td>\n",
       "      <td>0.0</td>\n",
       "      <td>0.0</td>\n",
       "      <td>0.0</td>\n",
       "      <td>...</td>\n",
       "      <td>0.0</td>\n",
       "      <td>0.0</td>\n",
       "      <td>0.0</td>\n",
       "      <td>0.0</td>\n",
       "      <td>0.0</td>\n",
       "      <td>0.0</td>\n",
       "      <td>0.0</td>\n",
       "      <td>0.0</td>\n",
       "      <td>0.0</td>\n",
       "      <td>0.0</td>\n",
       "    </tr>\n",
       "    <tr>\n",
       "      <th>5</th>\n",
       "      <td>73</td>\n",
       "      <td>540</td>\n",
       "      <td>NaN</td>\n",
       "      <td>NaN</td>\n",
       "      <td>NaN</td>\n",
       "      <td>NaN</td>\n",
       "      <td>0.0</td>\n",
       "      <td>0.0</td>\n",
       "      <td>0.0</td>\n",
       "      <td>0.0</td>\n",
       "      <td>...</td>\n",
       "      <td>0.0</td>\n",
       "      <td>0.0</td>\n",
       "      <td>0.0</td>\n",
       "      <td>0.0</td>\n",
       "      <td>0.0</td>\n",
       "      <td>0.0</td>\n",
       "      <td>0.0</td>\n",
       "      <td>0.0</td>\n",
       "      <td>0.0</td>\n",
       "      <td>0.0</td>\n",
       "    </tr>\n",
       "    <tr>\n",
       "      <th>6</th>\n",
       "      <td>98</td>\n",
       "      <td>180</td>\n",
       "      <td>NaN</td>\n",
       "      <td>NaN</td>\n",
       "      <td>NaN</td>\n",
       "      <td>NaN</td>\n",
       "      <td>0.0</td>\n",
       "      <td>0.0</td>\n",
       "      <td>0.0</td>\n",
       "      <td>0.0</td>\n",
       "      <td>...</td>\n",
       "      <td>0.0</td>\n",
       "      <td>0.0</td>\n",
       "      <td>0.0</td>\n",
       "      <td>0.0</td>\n",
       "      <td>0.0</td>\n",
       "      <td>0.0</td>\n",
       "      <td>0.0</td>\n",
       "      <td>0.0</td>\n",
       "      <td>0.0</td>\n",
       "      <td>0.0</td>\n",
       "    </tr>\n",
       "    <tr>\n",
       "      <th>7</th>\n",
       "      <td>99</td>\n",
       "      <td>567</td>\n",
       "      <td>NaN</td>\n",
       "      <td>NaN</td>\n",
       "      <td>NaN</td>\n",
       "      <td>NaN</td>\n",
       "      <td>0.0</td>\n",
       "      <td>0.0</td>\n",
       "      <td>0.0</td>\n",
       "      <td>0.0</td>\n",
       "      <td>...</td>\n",
       "      <td>0.0</td>\n",
       "      <td>0.0</td>\n",
       "      <td>0.0</td>\n",
       "      <td>0.0</td>\n",
       "      <td>0.0</td>\n",
       "      <td>0.0</td>\n",
       "      <td>0.0</td>\n",
       "      <td>0.0</td>\n",
       "      <td>0.0</td>\n",
       "      <td>0.0</td>\n",
       "    </tr>\n",
       "    <tr>\n",
       "      <th>8</th>\n",
       "      <td>100</td>\n",
       "      <td>680</td>\n",
       "      <td>NaN</td>\n",
       "      <td>NaN</td>\n",
       "      <td>NaN</td>\n",
       "      <td>NaN</td>\n",
       "      <td>0.0</td>\n",
       "      <td>0.0</td>\n",
       "      <td>0.0</td>\n",
       "      <td>0.0</td>\n",
       "      <td>...</td>\n",
       "      <td>0.0</td>\n",
       "      <td>0.0</td>\n",
       "      <td>0.0</td>\n",
       "      <td>0.0</td>\n",
       "      <td>0.0</td>\n",
       "      <td>0.0</td>\n",
       "      <td>0.0</td>\n",
       "      <td>0.0</td>\n",
       "      <td>0.0</td>\n",
       "      <td>0.0</td>\n",
       "    </tr>\n",
       "    <tr>\n",
       "      <th>9</th>\n",
       "      <td>106</td>\n",
       "      <td>475</td>\n",
       "      <td>NaN</td>\n",
       "      <td>NaN</td>\n",
       "      <td>100</td>\n",
       "      <td>100</td>\n",
       "      <td>0.0</td>\n",
       "      <td>0.0</td>\n",
       "      <td>0.0</td>\n",
       "      <td>0.0</td>\n",
       "      <td>...</td>\n",
       "      <td>0.0</td>\n",
       "      <td>0.0</td>\n",
       "      <td>0.0</td>\n",
       "      <td>0.0</td>\n",
       "      <td>0.0</td>\n",
       "      <td>0.0</td>\n",
       "      <td>0.0</td>\n",
       "      <td>0.0</td>\n",
       "      <td>0.0</td>\n",
       "      <td>0.0</td>\n",
       "    </tr>\n",
       "  </tbody>\n",
       "</table>\n",
       "<p>10 rows × 1023 columns</p>\n",
       "</div>"
      ],
      "text/plain": [
       "   Producto_ID grams   ml inches  pct pieces   Beso Nuez   Granos  \\\n",
       "0            0   NaN  NaN    NaN  NaN    NaN         0.0      0.0   \n",
       "1            9   750  NaN    NaN  NaN    NaN         0.0      0.0   \n",
       "2           41   480  NaN    NaN  NaN      6         0.0      0.0   \n",
       "3           53   170  NaN    NaN  NaN    NaN         0.0      0.0   \n",
       "4           72    45  NaN    NaN  NaN      4         0.0      0.0   \n",
       "5           73   540  NaN    NaN  NaN    NaN         0.0      0.0   \n",
       "6           98   180  NaN    NaN  NaN    NaN         0.0      0.0   \n",
       "7           99   567  NaN    NaN  NaN    NaN         0.0      0.0   \n",
       "8          100   680  NaN    NaN  NaN    NaN         0.0      0.0   \n",
       "9          106   475  NaN    NaN  100    100         0.0      0.0   \n",
       "\n",
       "    Tarima MiniMilk Kitty Nav  ActiFresh Menta       ...         Wonderbutter  \\\n",
       "0                         0.0              0.0       ...                  0.0   \n",
       "1                         0.0              0.0       ...                  0.0   \n",
       "2                         0.0              0.0       ...                  0.0   \n",
       "3                         0.0              0.0       ...                  0.0   \n",
       "4                         0.0              0.0       ...                  0.0   \n",
       "5                         0.0              0.0       ...                  0.0   \n",
       "6                         0.0              0.0       ...                  0.0   \n",
       "7                         0.0              0.0       ...                  0.0   \n",
       "8                         0.0              0.0       ...                  0.0   \n",
       "9                         0.0              0.0       ...                  0.0   \n",
       "\n",
       "   g BAR  g Cj MTA MLA  g GBI  g MLA  g Prom CUB SAN  g Temp GBI  gCU LON  \\\n",
       "0    0.0           0.0    0.0    0.0             0.0         0.0      0.0   \n",
       "1    0.0           0.0    0.0    0.0             0.0         0.0      0.0   \n",
       "2    0.0           0.0    0.0    0.0             0.0         0.0      0.0   \n",
       "3    0.0           0.0    0.0    0.0             0.0         0.0      0.0   \n",
       "4    0.0           0.0    0.0    0.0             0.0         0.0      0.0   \n",
       "5    0.0           0.0    0.0    0.0             0.0         0.0      0.0   \n",
       "6    0.0           0.0    0.0    0.0             0.0         0.0      0.0   \n",
       "7    0.0           0.0    0.0    0.0             0.0         0.0      0.0   \n",
       "8    0.0           0.0    0.0    0.0             0.0         0.0      0.0   \n",
       "9    0.0           0.0    0.0    0.0             0.0         0.0      0.0   \n",
       "\n",
       "   gMTA MLA  pct Whole Wheat  \n",
       "0       0.0              0.0  \n",
       "1       0.0              0.0  \n",
       "2       0.0              0.0  \n",
       "3       0.0              0.0  \n",
       "4       0.0              0.0  \n",
       "5       0.0              0.0  \n",
       "6       0.0              0.0  \n",
       "7       0.0              0.0  \n",
       "8       0.0              0.0  \n",
       "9       0.0              0.0  \n",
       "\n",
       "[10 rows x 1023 columns]"
      ]
     },
     "execution_count": 23,
     "metadata": {},
     "output_type": "execute_result"
    }
   ],
   "source": [
    "pr.head(10)"
   ]
  },
  {
   "cell_type": "code",
   "execution_count": null,
   "metadata": {
    "collapsed": true
   },
   "outputs": [],
   "source": []
  }
 ],
 "metadata": {
  "kernelspec": {
   "display_name": "Python 2",
   "language": "python",
   "name": "python2"
  },
  "language_info": {
   "codemirror_mode": {
    "name": "ipython",
    "version": 2
   },
   "file_extension": ".py",
   "mimetype": "text/x-python",
   "name": "python",
   "nbconvert_exporter": "python",
   "pygments_lexer": "ipython2",
   "version": "2.7.11"
  }
 },
 "nbformat": 4,
 "nbformat_minor": 0
}
