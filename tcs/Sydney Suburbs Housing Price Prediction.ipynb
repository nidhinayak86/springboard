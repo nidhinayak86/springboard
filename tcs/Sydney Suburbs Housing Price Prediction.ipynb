{
 "cells": [
  {
   "cell_type": "code",
   "execution_count": 7,
   "metadata": {
    "collapsed": false
   },
   "outputs": [
    {
     "name": "stdout",
     "output_type": "stream",
     "text": [
      "Populating the interactive namespace from numpy and matplotlib\n"
     ]
    }
   ],
   "source": [
    "%pylab inline \n",
    "import numpy as np\n",
    "import pandas as pd\n",
    "import scipy.stats as stats\n",
    "import matplotlib.pyplot as plt\n",
    "import sklearn\n",
    "import seaborn as sns\n",
    "from matplotlib import rcParams\n",
    "sns.set_style(\"whitegrid\")\n",
    "sns.set_context(\"poster\")"
   ]
  },
  {
   "cell_type": "code",
   "execution_count": 126,
   "metadata": {
    "collapsed": true
   },
   "outputs": [],
   "source": [
    "x= pd.read_csv('Xfeatures.csv', sep = \",\")\n",
    "y= pd.read_csv('Y-FEATURES.csv', sep = \",\")"
   ]
  },
  {
   "cell_type": "code",
   "execution_count": 15,
   "metadata": {
    "collapsed": false
   },
   "outputs": [
    {
     "name": "stdout",
     "output_type": "stream",
     "text": [
      "Shape-x: (51, 7)\n",
      "Shape-y: (4, 59)\n"
     ]
    }
   ],
   "source": [
    "print 'Shape-x: ' + str(x.shape)\n",
    "print 'Shape-y: ' + str(y.shape)"
   ]
  },
  {
   "cell_type": "code",
   "execution_count": 16,
   "metadata": {
    "collapsed": false
   },
   "outputs": [
    {
     "data": {
      "text/html": [
       "<div>\n",
       "<table border=\"1\" class=\"dataframe\">\n",
       "  <thead>\n",
       "    <tr style=\"text-align: right;\">\n",
       "      <th></th>\n",
       "      <th>suburb</th>\n",
       "      <th>Rockdale</th>\n",
       "      <th>Unnamed: 2</th>\n",
       "      <th>North sydney</th>\n",
       "      <th>Unnamed: 4</th>\n",
       "      <th>Ryde</th>\n",
       "      <th>Unnamed: 6</th>\n",
       "    </tr>\n",
       "  </thead>\n",
       "  <tbody>\n",
       "    <tr>\n",
       "      <th>0</th>\n",
       "      <td>Population</td>\n",
       "      <td>2011</td>\n",
       "      <td>2016</td>\n",
       "      <td>2011</td>\n",
       "      <td>2016</td>\n",
       "      <td>2011</td>\n",
       "      <td>2016</td>\n",
       "    </tr>\n",
       "    <tr>\n",
       "      <th>1</th>\n",
       "      <td>M_0_19</td>\n",
       "      <td>211</td>\n",
       "      <td>236</td>\n",
       "      <td>18</td>\n",
       "      <td>19</td>\n",
       "      <td>135</td>\n",
       "      <td>126</td>\n",
       "    </tr>\n",
       "    <tr>\n",
       "      <th>2</th>\n",
       "      <td>M_20_64</td>\n",
       "      <td>1065</td>\n",
       "      <td>1082</td>\n",
       "      <td>178</td>\n",
       "      <td>183</td>\n",
       "      <td>329</td>\n",
       "      <td>327</td>\n",
       "    </tr>\n",
       "    <tr>\n",
       "      <th>3</th>\n",
       "      <td>M_65plus</td>\n",
       "      <td>105</td>\n",
       "      <td>124</td>\n",
       "      <td>13</td>\n",
       "      <td>11</td>\n",
       "      <td>65</td>\n",
       "      <td>73</td>\n",
       "    </tr>\n",
       "    <tr>\n",
       "      <th>4</th>\n",
       "      <td>M_Total</td>\n",
       "      <td>1382</td>\n",
       "      <td>1443</td>\n",
       "      <td>210</td>\n",
       "      <td>212</td>\n",
       "      <td>530</td>\n",
       "      <td>525</td>\n",
       "    </tr>\n",
       "    <tr>\n",
       "      <th>5</th>\n",
       "      <td>F_0_19</td>\n",
       "      <td>203</td>\n",
       "      <td>221</td>\n",
       "      <td>25</td>\n",
       "      <td>27</td>\n",
       "      <td>120</td>\n",
       "      <td>118</td>\n",
       "    </tr>\n",
       "    <tr>\n",
       "      <th>6</th>\n",
       "      <td>F_20_64</td>\n",
       "      <td>888</td>\n",
       "      <td>922</td>\n",
       "      <td>147</td>\n",
       "      <td>148</td>\n",
       "      <td>312</td>\n",
       "      <td>314</td>\n",
       "    </tr>\n",
       "    <tr>\n",
       "      <th>7</th>\n",
       "      <td>F_65plus</td>\n",
       "      <td>90</td>\n",
       "      <td>122</td>\n",
       "      <td>9</td>\n",
       "      <td>13</td>\n",
       "      <td>78</td>\n",
       "      <td>84</td>\n",
       "    </tr>\n",
       "    <tr>\n",
       "      <th>8</th>\n",
       "      <td>F_Total</td>\n",
       "      <td>1181</td>\n",
       "      <td>1265</td>\n",
       "      <td>180</td>\n",
       "      <td>187</td>\n",
       "      <td>510</td>\n",
       "      <td>516</td>\n",
       "    </tr>\n",
       "    <tr>\n",
       "      <th>9</th>\n",
       "      <td>T_0_19</td>\n",
       "      <td>414</td>\n",
       "      <td>457</td>\n",
       "      <td>43</td>\n",
       "      <td>46</td>\n",
       "      <td>255</td>\n",
       "      <td>244</td>\n",
       "    </tr>\n",
       "  </tbody>\n",
       "</table>\n",
       "</div>"
      ],
      "text/plain": [
       "      suburb   Rockdale  Unnamed: 2  North sydney  Unnamed: 4  Ryde  \\\n",
       "0  Population      2011        2016          2011        2016  2011   \n",
       "1      M_0_19       211         236            18          19   135   \n",
       "2     M_20_64      1065        1082           178         183   329   \n",
       "3    M_65plus       105         124            13          11    65   \n",
       "4     M_Total      1382        1443           210         212   530   \n",
       "5      F_0_19       203         221            25          27   120   \n",
       "6     F_20_64       888         922           147         148   312   \n",
       "7    F_65plus        90         122             9          13    78   \n",
       "8     F_Total      1181        1265           180         187   510   \n",
       "9      T_0_19       414         457            43          46   255   \n",
       "\n",
       "   Unnamed: 6  \n",
       "0        2016  \n",
       "1         126  \n",
       "2         327  \n",
       "3          73  \n",
       "4         525  \n",
       "5         118  \n",
       "6         314  \n",
       "7          84  \n",
       "8         516  \n",
       "9         244  "
      ]
     },
     "execution_count": 16,
     "metadata": {},
     "output_type": "execute_result"
    }
   ],
   "source": [
    "x.head(10)"
   ]
  },
  {
   "cell_type": "code",
   "execution_count": 17,
   "metadata": {
    "collapsed": false
   },
   "outputs": [
    {
     "data": {
      "text/html": [
       "<div>\n",
       "<table border=\"1\" class=\"dataframe\">\n",
       "  <thead>\n",
       "    <tr style=\"text-align: right;\">\n",
       "      <th></th>\n",
       "      <th>Separate Houses - All Bedroom Numbers</th>\n",
       "      <th>Unnamed: 1</th>\n",
       "      <th>Unnamed: 2</th>\n",
       "      <th>Unnamed: 3</th>\n",
       "      <th>Unnamed: 4</th>\n",
       "      <th>Unnamed: 5</th>\n",
       "      <th>Unnamed: 6</th>\n",
       "      <th>Unnamed: 7</th>\n",
       "      <th>Unnamed: 8</th>\n",
       "      <th>Unnamed: 9</th>\n",
       "      <th>...</th>\n",
       "      <th>Unnamed: 49</th>\n",
       "      <th>Unnamed: 50</th>\n",
       "      <th>Unnamed: 51</th>\n",
       "      <th>Unnamed: 52</th>\n",
       "      <th>Unnamed: 53</th>\n",
       "      <th>Unnamed: 54</th>\n",
       "      <th>Unnamed: 55</th>\n",
       "      <th>Unnamed: 56</th>\n",
       "      <th>Unnamed: 57</th>\n",
       "      <th>Unnamed: 58</th>\n",
       "    </tr>\n",
       "  </thead>\n",
       "  <tbody>\n",
       "    <tr>\n",
       "      <th>0</th>\n",
       "      <td>Suburbs</td>\n",
       "      <td>3/1/16 0:00</td>\n",
       "      <td>6/1/16 0:00</td>\n",
       "      <td>9/1/16 0:00</td>\n",
       "      <td>12/1/16 0:00</td>\n",
       "      <td>3/2/16 0:00</td>\n",
       "      <td>6/2/16 0:00</td>\n",
       "      <td>9/2/16 0:00</td>\n",
       "      <td>12/2/16 0:00</td>\n",
       "      <td>3/3/16 0:00</td>\n",
       "      <td>...</td>\n",
       "      <td>3/13/16 0:00</td>\n",
       "      <td>6/13/16 0:00</td>\n",
       "      <td>9/13/16 0:00</td>\n",
       "      <td>12/13/16 0:00</td>\n",
       "      <td>3/14/16 0:00</td>\n",
       "      <td>6/14/16 0:00</td>\n",
       "      <td>9/14/16 0:00</td>\n",
       "      <td>12/14/16 0:00</td>\n",
       "      <td>3/15/16 0:00</td>\n",
       "      <td>6/15/16 0:00</td>\n",
       "    </tr>\n",
       "    <tr>\n",
       "      <th>1</th>\n",
       "      <td>North Sydney</td>\n",
       "      <td>600</td>\n",
       "      <td>550</td>\n",
       "      <td>570</td>\n",
       "      <td>555</td>\n",
       "      <td>550</td>\n",
       "      <td>530</td>\n",
       "      <td>560</td>\n",
       "      <td>530</td>\n",
       "      <td>600</td>\n",
       "      <td>...</td>\n",
       "      <td>973</td>\n",
       "      <td>990</td>\n",
       "      <td>960</td>\n",
       "      <td>1,100</td>\n",
       "      <td>973</td>\n",
       "      <td>1,175</td>\n",
       "      <td>850</td>\n",
       "      <td>1,115</td>\n",
       "      <td>1,115</td>\n",
       "      <td>1,150</td>\n",
       "    </tr>\n",
       "    <tr>\n",
       "      <th>2</th>\n",
       "      <td>Rockdale</td>\n",
       "      <td>310</td>\n",
       "      <td>320</td>\n",
       "      <td>310</td>\n",
       "      <td>300</td>\n",
       "      <td>300</td>\n",
       "      <td>300</td>\n",
       "      <td>300</td>\n",
       "      <td>300</td>\n",
       "      <td>300</td>\n",
       "      <td>...</td>\n",
       "      <td>530</td>\n",
       "      <td>500</td>\n",
       "      <td>500</td>\n",
       "      <td>550</td>\n",
       "      <td>550</td>\n",
       "      <td>560</td>\n",
       "      <td>568</td>\n",
       "      <td>550</td>\n",
       "      <td>580</td>\n",
       "      <td>570</td>\n",
       "    </tr>\n",
       "    <tr>\n",
       "      <th>3</th>\n",
       "      <td>Ryde</td>\n",
       "      <td>340</td>\n",
       "      <td>350</td>\n",
       "      <td>340</td>\n",
       "      <td>350</td>\n",
       "      <td>340</td>\n",
       "      <td>345</td>\n",
       "      <td>340</td>\n",
       "      <td>340</td>\n",
       "      <td>338</td>\n",
       "      <td>...</td>\n",
       "      <td>580</td>\n",
       "      <td>570</td>\n",
       "      <td>620</td>\n",
       "      <td>620</td>\n",
       "      <td>620</td>\n",
       "      <td>615</td>\n",
       "      <td>645</td>\n",
       "      <td>630</td>\n",
       "      <td>660</td>\n",
       "      <td>650</td>\n",
       "    </tr>\n",
       "  </tbody>\n",
       "</table>\n",
       "<p>4 rows × 59 columns</p>\n",
       "</div>"
      ],
      "text/plain": [
       "  Separate Houses - All Bedroom Numbers   Unnamed: 1   Unnamed: 2  \\\n",
       "0                               Suburbs  3/1/16 0:00  6/1/16 0:00   \n",
       "1                          North Sydney          600          550   \n",
       "2                              Rockdale          310          320   \n",
       "3                                  Ryde          340          350   \n",
       "\n",
       "    Unnamed: 3    Unnamed: 4   Unnamed: 5   Unnamed: 6   Unnamed: 7  \\\n",
       "0  9/1/16 0:00  12/1/16 0:00  3/2/16 0:00  6/2/16 0:00  9/2/16 0:00   \n",
       "1          570           555          550          530          560   \n",
       "2          310           300          300          300          300   \n",
       "3          340           350          340          345          340   \n",
       "\n",
       "     Unnamed: 8   Unnamed: 9      ...        Unnamed: 49   Unnamed: 50  \\\n",
       "0  12/2/16 0:00  3/3/16 0:00      ...       3/13/16 0:00  6/13/16 0:00   \n",
       "1           530          600      ...                973           990   \n",
       "2           300          300      ...                530           500   \n",
       "3           340          338      ...                580           570   \n",
       "\n",
       "    Unnamed: 51    Unnamed: 52   Unnamed: 53   Unnamed: 54   Unnamed: 55  \\\n",
       "0  9/13/16 0:00  12/13/16 0:00  3/14/16 0:00  6/14/16 0:00  9/14/16 0:00   \n",
       "1           960          1,100           973         1,175           850   \n",
       "2           500            550           550           560           568   \n",
       "3           620            620           620           615           645   \n",
       "\n",
       "     Unnamed: 56   Unnamed: 57   Unnamed: 58  \n",
       "0  12/14/16 0:00  3/15/16 0:00  6/15/16 0:00  \n",
       "1          1,115         1,115         1,150  \n",
       "2            550           580           570  \n",
       "3            630           660           650  \n",
       "\n",
       "[4 rows x 59 columns]"
      ]
     },
     "execution_count": 17,
     "metadata": {},
     "output_type": "execute_result"
    }
   ],
   "source": [
    "y.head(10)"
   ]
  },
  {
   "cell_type": "code",
   "execution_count": 127,
   "metadata": {
    "collapsed": false
   },
   "outputs": [],
   "source": [
    "ytrans=y.transpose()"
   ]
  },
  {
   "cell_type": "code",
   "execution_count": 128,
   "metadata": {
    "collapsed": false
   },
   "outputs": [
    {
     "data": {
      "text/html": [
       "<div>\n",
       "<table border=\"1\" class=\"dataframe\">\n",
       "  <thead>\n",
       "    <tr style=\"text-align: right;\">\n",
       "      <th>Separate Houses - All Bedroom Numbers</th>\n",
       "      <th>Suburbs</th>\n",
       "      <th>North Sydney</th>\n",
       "      <th>Rockdale</th>\n",
       "      <th>Ryde</th>\n",
       "    </tr>\n",
       "  </thead>\n",
       "  <tbody>\n",
       "    <tr>\n",
       "      <th>Separate Houses - All Bedroom Numbers</th>\n",
       "      <td>Suburbs</td>\n",
       "      <td>North Sydney</td>\n",
       "      <td>Rockdale</td>\n",
       "      <td>Ryde</td>\n",
       "    </tr>\n",
       "    <tr>\n",
       "      <th>Unnamed: 1</th>\n",
       "      <td>3/1/16 0:00</td>\n",
       "      <td>600</td>\n",
       "      <td>310</td>\n",
       "      <td>340</td>\n",
       "    </tr>\n",
       "    <tr>\n",
       "      <th>Unnamed: 2</th>\n",
       "      <td>6/1/16 0:00</td>\n",
       "      <td>550</td>\n",
       "      <td>320</td>\n",
       "      <td>350</td>\n",
       "    </tr>\n",
       "    <tr>\n",
       "      <th>Unnamed: 3</th>\n",
       "      <td>9/1/16 0:00</td>\n",
       "      <td>570</td>\n",
       "      <td>310</td>\n",
       "      <td>340</td>\n",
       "    </tr>\n",
       "  </tbody>\n",
       "</table>\n",
       "</div>"
      ],
      "text/plain": [
       "Separate Houses - All Bedroom Numbers      Suburbs  North Sydney  Rockdale  \\\n",
       "Separate Houses - All Bedroom Numbers      Suburbs  North Sydney  Rockdale   \n",
       "Unnamed: 1                             3/1/16 0:00           600       310   \n",
       "Unnamed: 2                             6/1/16 0:00           550       320   \n",
       "Unnamed: 3                             9/1/16 0:00           570       310   \n",
       "\n",
       "Separate Houses - All Bedroom Numbers  Ryde  \n",
       "Separate Houses - All Bedroom Numbers  Ryde  \n",
       "Unnamed: 1                              340  \n",
       "Unnamed: 2                              350  \n",
       "Unnamed: 3                              340  "
      ]
     },
     "execution_count": 128,
     "metadata": {},
     "output_type": "execute_result"
    }
   ],
   "source": [
    "ytrans.columns = ytrans.iloc[0]\n",
    "ytrans.head(4)"
   ]
  },
  {
   "cell_type": "code",
   "execution_count": 129,
   "metadata": {
    "collapsed": false
   },
   "outputs": [
    {
     "data": {
      "text/html": [
       "<div>\n",
       "<table border=\"1\" class=\"dataframe\">\n",
       "  <thead>\n",
       "    <tr style=\"text-align: right;\">\n",
       "      <th>Separate Houses - All Bedroom Numbers</th>\n",
       "      <th>Suburbs</th>\n",
       "      <th>North Sydney</th>\n",
       "      <th>Rockdale</th>\n",
       "      <th>Ryde</th>\n",
       "    </tr>\n",
       "  </thead>\n",
       "  <tbody>\n",
       "    <tr>\n",
       "      <th>Unnamed: 1</th>\n",
       "      <td>3/1/16 0:00</td>\n",
       "      <td>600</td>\n",
       "      <td>310</td>\n",
       "      <td>340</td>\n",
       "    </tr>\n",
       "    <tr>\n",
       "      <th>Unnamed: 2</th>\n",
       "      <td>6/1/16 0:00</td>\n",
       "      <td>550</td>\n",
       "      <td>320</td>\n",
       "      <td>350</td>\n",
       "    </tr>\n",
       "    <tr>\n",
       "      <th>Unnamed: 3</th>\n",
       "      <td>9/1/16 0:00</td>\n",
       "      <td>570</td>\n",
       "      <td>310</td>\n",
       "      <td>340</td>\n",
       "    </tr>\n",
       "    <tr>\n",
       "      <th>Unnamed: 4</th>\n",
       "      <td>12/1/16 0:00</td>\n",
       "      <td>555</td>\n",
       "      <td>300</td>\n",
       "      <td>350</td>\n",
       "    </tr>\n",
       "  </tbody>\n",
       "</table>\n",
       "</div>"
      ],
      "text/plain": [
       "Separate Houses - All Bedroom Numbers       Suburbs North Sydney Rockdale Ryde\n",
       "Unnamed: 1                              3/1/16 0:00          600      310  340\n",
       "Unnamed: 2                              6/1/16 0:00          550      320  350\n",
       "Unnamed: 3                              9/1/16 0:00          570      310  340\n",
       "Unnamed: 4                             12/1/16 0:00          555      300  350"
      ]
     },
     "execution_count": 129,
     "metadata": {},
     "output_type": "execute_result"
    }
   ],
   "source": [
    "ytrans=ytrans.drop('Separate Houses - All Bedroom Numbers')\n",
    "ytrans.head(4)"
   ]
  },
  {
   "cell_type": "code",
   "execution_count": 130,
   "metadata": {
    "collapsed": false
   },
   "outputs": [],
   "source": [
    "ytrans.index =ytrans['Suburbs']"
   ]
  },
  {
   "cell_type": "code",
   "execution_count": 131,
   "metadata": {
    "collapsed": false
   },
   "outputs": [
    {
     "data": {
      "text/html": [
       "<div>\n",
       "<table border=\"1\" class=\"dataframe\">\n",
       "  <thead>\n",
       "    <tr style=\"text-align: right;\">\n",
       "      <th>Separate Houses - All Bedroom Numbers</th>\n",
       "      <th>Suburbs</th>\n",
       "      <th>North Sydney</th>\n",
       "      <th>Rockdale</th>\n",
       "      <th>Ryde</th>\n",
       "    </tr>\n",
       "    <tr>\n",
       "      <th>Suburbs</th>\n",
       "      <th></th>\n",
       "      <th></th>\n",
       "      <th></th>\n",
       "      <th></th>\n",
       "    </tr>\n",
       "  </thead>\n",
       "  <tbody>\n",
       "    <tr>\n",
       "      <th>3/1/16 0:00</th>\n",
       "      <td>3/1/16 0:00</td>\n",
       "      <td>600</td>\n",
       "      <td>310</td>\n",
       "      <td>340</td>\n",
       "    </tr>\n",
       "    <tr>\n",
       "      <th>6/1/16 0:00</th>\n",
       "      <td>6/1/16 0:00</td>\n",
       "      <td>550</td>\n",
       "      <td>320</td>\n",
       "      <td>350</td>\n",
       "    </tr>\n",
       "    <tr>\n",
       "      <th>9/1/16 0:00</th>\n",
       "      <td>9/1/16 0:00</td>\n",
       "      <td>570</td>\n",
       "      <td>310</td>\n",
       "      <td>340</td>\n",
       "    </tr>\n",
       "  </tbody>\n",
       "</table>\n",
       "</div>"
      ],
      "text/plain": [
       "Separate Houses - All Bedroom Numbers      Suburbs North Sydney Rockdale Ryde\n",
       "Suburbs                                                                      \n",
       "3/1/16 0:00                            3/1/16 0:00          600      310  340\n",
       "6/1/16 0:00                            6/1/16 0:00          550      320  350\n",
       "9/1/16 0:00                            9/1/16 0:00          570      310  340"
      ]
     },
     "execution_count": 131,
     "metadata": {},
     "output_type": "execute_result"
    }
   ],
   "source": [
    "ytrans.head(3)"
   ]
  },
  {
   "cell_type": "code",
   "execution_count": 132,
   "metadata": {
    "collapsed": false
   },
   "outputs": [],
   "source": [
    "ytrans[['North Sydney','Rockdale','Ryde']] = ytrans[['North Sydney','Rockdale','Ryde']].apply(lambda x: pd.to_numeric(x,errors='coerce'))"
   ]
  },
  {
   "cell_type": "code",
   "execution_count": 138,
   "metadata": {
    "collapsed": false
   },
   "outputs": [],
   "source": [
    "import datetime as datetime\n",
    "ytrans[['Suburbs']]=ytrans['Suburbs'].apply(lambda z : datetime.datetime.strptime(z, \"%m/%d/%y %H:%M\"))"
   ]
  },
  {
   "cell_type": "code",
   "execution_count": 139,
   "metadata": {
    "collapsed": false
   },
   "outputs": [
    {
     "data": {
      "text/html": [
       "<div>\n",
       "<table border=\"1\" class=\"dataframe\">\n",
       "  <thead>\n",
       "    <tr style=\"text-align: right;\">\n",
       "      <th>Separate Houses - All Bedroom Numbers</th>\n",
       "      <th>Suburbs</th>\n",
       "      <th>North Sydney</th>\n",
       "      <th>Rockdale</th>\n",
       "      <th>Ryde</th>\n",
       "    </tr>\n",
       "    <tr>\n",
       "      <th>Suburbs</th>\n",
       "      <th></th>\n",
       "      <th></th>\n",
       "      <th></th>\n",
       "      <th></th>\n",
       "    </tr>\n",
       "  </thead>\n",
       "  <tbody>\n",
       "    <tr>\n",
       "      <th>3/1/16 0:00</th>\n",
       "      <td>2016-03-01</td>\n",
       "      <td>600.0</td>\n",
       "      <td>310</td>\n",
       "      <td>340</td>\n",
       "    </tr>\n",
       "    <tr>\n",
       "      <th>6/1/16 0:00</th>\n",
       "      <td>2016-06-01</td>\n",
       "      <td>550.0</td>\n",
       "      <td>320</td>\n",
       "      <td>350</td>\n",
       "    </tr>\n",
       "    <tr>\n",
       "      <th>9/1/16 0:00</th>\n",
       "      <td>2016-09-01</td>\n",
       "      <td>570.0</td>\n",
       "      <td>310</td>\n",
       "      <td>340</td>\n",
       "    </tr>\n",
       "    <tr>\n",
       "      <th>12/1/16 0:00</th>\n",
       "      <td>2016-12-01</td>\n",
       "      <td>555.0</td>\n",
       "      <td>300</td>\n",
       "      <td>350</td>\n",
       "    </tr>\n",
       "    <tr>\n",
       "      <th>3/2/16 0:00</th>\n",
       "      <td>2016-03-02</td>\n",
       "      <td>550.0</td>\n",
       "      <td>300</td>\n",
       "      <td>340</td>\n",
       "    </tr>\n",
       "  </tbody>\n",
       "</table>\n",
       "</div>"
      ],
      "text/plain": [
       "Separate Houses - All Bedroom Numbers    Suburbs  North Sydney  Rockdale  Ryde\n",
       "Suburbs                                                                       \n",
       "3/1/16 0:00                           2016-03-01         600.0       310   340\n",
       "6/1/16 0:00                           2016-06-01         550.0       320   350\n",
       "9/1/16 0:00                           2016-09-01         570.0       310   340\n",
       "12/1/16 0:00                          2016-12-01         555.0       300   350\n",
       "3/2/16 0:00                           2016-03-02         550.0       300   340"
      ]
     },
     "execution_count": 139,
     "metadata": {},
     "output_type": "execute_result"
    }
   ],
   "source": [
    "ytrans.head()"
   ]
  },
  {
   "cell_type": "code",
   "execution_count": 141,
   "metadata": {
    "collapsed": false
   },
   "outputs": [
    {
     "data": {
      "text/plain": [
       "Separate Houses - All Bedroom Numbers\n",
       "Suburbs         datetime64[ns]\n",
       "North Sydney           float64\n",
       "Rockdale                 int64\n",
       "Ryde                     int64\n",
       "dtype: object"
      ]
     },
     "execution_count": 141,
     "metadata": {},
     "output_type": "execute_result"
    }
   ],
   "source": [
    "df =ytrans\n",
    "df.dtypes"
   ]
  },
  {
   "cell_type": "code",
   "execution_count": 153,
   "metadata": {
    "collapsed": false
   },
   "outputs": [
    {
     "data": {
      "text/plain": [
       "<matplotlib.axes._subplots.AxesSubplot at 0x10185cd50>"
      ]
     },
     "execution_count": 153,
     "metadata": {},
     "output_type": "execute_result"
    },
    {
     "data": {
      "image/png": "[encoded data removed]",
      "text/plain": [
       "<matplotlib.figure.Figure at 0x10185c8d0>"
      ]
     },
     "metadata": {},
     "output_type": "display_data"
    }
   ],
   "source": [
    "\n",
    "ytrans[['North Sydney','Rockdale', 'Ryde']].plot()"
   ]
  },
  {
   "cell_type": "code",
   "execution_count": 164,
   "metadata": {
    "collapsed": false
   },
   "outputs": [
    {
     "data": {
      "text/plain": [
       "LinearRegression(copy_X=True, fit_intercept=True, n_jobs=1, normalize=False)"
      ]
     },
     "execution_count": 164,
     "metadata": {},
     "output_type": "execute_result"
    }
   ],
   "source": [
    "from sklearn.linear_model import LinearRegression\n",
    "from sklearn.preprocessing import OneHotEncoder\n",
    "enc = OneHotEncoder()\n",
    "# This creates a LinearRegression objec\n",
    "# This creates a LinearRegression object\n",
    "lm = LinearRegression()\n",
    "lm.fit(ytrans[['Suburbs']], ytrans['Rockdale'])"
   ]
  },
  {
   "cell_type": "code",
   "execution_count": 170,
   "metadata": {
    "collapsed": false
   },
   "outputs": [],
   "source": [
    "#preds = lm.predict((float)datetime.date('01/02/25 0:00'))"
   ]
  },
  {
   "cell_type": "code",
   "execution_count": null,
   "metadata": {
    "collapsed": true
   },
   "outputs": [],
   "source": []
  }
 ],
 "metadata": {
  "kernelspec": {
   "display_name": "Python 2",
   "language": "python",
   "name": "python2"
  },
  "language_info": {
   "codemirror_mode": {
    "name": "ipython",
    "version": 2
   },
   "file_extension": ".py",
   "mimetype": "text/x-python",
   "name": "python",
   "nbconvert_exporter": "python",
   "pygments_lexer": "ipython2",
   "version": "2.7.11"
  }
 },
 "nbformat": 4,
 "nbformat_minor": 0
}
