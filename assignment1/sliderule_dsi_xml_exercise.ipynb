{
 "cells": [
  {
   "cell_type": "markdown",
   "metadata": {},
   "source": [
    "# XML example and exercise\n",
    "****\n",
    "+ study examples of accessing nodes in XML tree structure  \n",
    "+ work on exercise to be completed and submitted\n",
    "****\n",
    "+ reference: https://docs.python.org/2.7/library/xml.etree.elementtree.html\n",
    "+ data source: http://www.dbis.informatik.uni-goettingen.de/Mondial\n",
    "****"
   ]
  },
  {
   "cell_type": "code",
   "execution_count": 8,
   "metadata": {
    "collapsed": true
   },
   "outputs": [],
   "source": [
    "from xml.etree import ElementTree as ET\n",
    "import operator "
   ]
  },
  {
   "cell_type": "markdown",
   "metadata": {},
   "source": [
    "## XML example\n",
    "\n",
    "+ for details about tree traversal and iterators, see https://docs.python.org/2.7/library/xml.etree.elementtree.html"
   ]
  },
  {
   "cell_type": "code",
   "execution_count": 3,
   "metadata": {
    "collapsed": true
   },
   "outputs": [],
   "source": [
    "document_tree = ET.parse( './data/mondial_database_less.xml' )"
   ]
  },
  {
   "cell_type": "code",
   "execution_count": 4,
   "metadata": {
    "collapsed": false
   },
   "outputs": [
    {
     "name": "stdout",
     "output_type": "stream",
     "text": [
      "Albania\n",
      "Greece\n",
      "Macedonia\n",
      "Serbia\n",
      "Montenegro\n",
      "Kosovo\n",
      "Andorra\n"
     ]
    }
   ],
   "source": [
    "# print names of all countries\n",
    "for child in document_tree.getroot():\n",
    "    print child.find('name').text"
   ]
  },
  {
   "cell_type": "code",
   "execution_count": 5,
   "metadata": {
    "collapsed": false
   },
   "outputs": [
    {
     "name": "stdout",
     "output_type": "stream",
     "text": [
      "* Albania: Tirana, Shkodër, Durrës, Vlorë, Elbasan, Korçë\n",
      "* Greece: Komotini, Kavala, Athina, Peiraias, Peristeri, Acharnes, Patra, Kozani, Kerkyra, Ioannina, Thessaloniki, Iraklio, Chania, Ermoupoli, Rhodes, Tripoli, Lamia, Chalkida, Larissa, Volos, Mytilini, Karyes\n",
      "* Macedonia: Skopje, Kumanovo\n",
      "* Serbia: Beograd, Novi Sad, Niš\n",
      "* Montenegro: Podgorica\n",
      "* Kosovo: Prishtine\n",
      "* Andorra: Andorra la Vella\n"
     ]
    }
   ],
   "source": [
    "# print names of all countries and their cities\n",
    "for element in document_tree.iterfind('country'):\n",
    "    print '* ' + element.find('name').text + ':',\n",
    "    capitals_string = ''\n",
    "    for subelement in element.getiterator('city'):\n",
    "        capitals_string += subelement.find('name').text + ', '\n",
    "    print capitals_string[:-2]"
   ]
  },
  {
   "cell_type": "markdown",
   "metadata": {},
   "source": [
    "****\n",
    "## XML exercise\n",
    "\n",
    "Using data in 'data/mondial_database.xml', the examples above, and refering to https://docs.python.org/2.7/library/xml.etree.elementtree.html, find\n",
    "\n",
    "1. 10 countries with the lowest infant mortality rates\n",
    "2. 10 cities with the largest population\n",
    "3. 10 ethnic groups with the largest overall populations (sum of best/latest estimates over all countries)\n",
    "4. name and country of a) longest river, b) largest lake and c) airport at highest elevation"
   ]
  },
  {
   "cell_type": "code",
   "execution_count": 3,
   "metadata": {
    "collapsed": false
   },
   "outputs": [],
   "source": [
    "document = ET.parse( './data/mondial_database.xml' )"
   ]
  },
  {
   "cell_type": "code",
   "execution_count": 12,
   "metadata": {
    "collapsed": false
   },
   "outputs": [
    {
     "name": "stdout",
     "output_type": "stream",
     "text": [
      "[('Monaco', 1.81), ('Japan', 2.13), ('Bermuda', 2.48), ('Norway', 2.48), ('Singapore', 2.53), ('Sweden', 2.6), ('Czech Republic', 2.63), ('Hong Kong', 2.73), ('Macao', 3.13), ('Iceland', 3.15)]\n"
     ]
    }
   ],
   "source": [
    "d={}\n",
    "for country in document.iterfind('country'):\n",
    "    if country.find('infant_mortality') is None:\n",
    "       pass\n",
    "    else:\n",
    "        name = country.find('name').text\n",
    "        im = country.find('infant_mortality').text\n",
    "        d[name] = float(im)\n",
    "\n",
    "sorted_dict = sorted(d.items(), key=operator.itemgetter(1))\n",
    "\n",
    "print sorted_dict[:10]"
   ]
  },
  {
   "cell_type": "code",
   "execution_count": 24,
   "metadata": {
    "collapsed": false
   },
   "outputs": [
    {
     "name": "stdout",
     "output_type": "stream",
     "text": [
      "[('China', 1360720000), ('India', 1210854977), ('United States', 318857056), ('Indonesia', 252124458), ('Brazil', 202768562), ('Pakistan', 173149306), ('Nigeria', 164294516), ('Bangladesh', 149772364), ('Russia', 143666931), ('Japan', 127298000)]\n"
     ]
    }
   ],
   "source": [
    "d={}\n",
    "for country in document.iterfind('country'):\n",
    "    d1={}\n",
    "    name = country.find('name').text\n",
    "    #print name\n",
    "    for node in country.findall('population'):\n",
    "        #print node.attrib['year'] \n",
    "        d1[node.attrib['year']]=int(node.text)\n",
    "    \n",
    "    #print d1\n",
    "    d1_sorted=sorted(d1.items(), key=operator.itemgetter(0), reverse=True)\n",
    "    #print d1_sorted\n",
    "    d[name] = int(d1_sorted[0][1])\n",
    "    \n",
    "sorted_dict = sorted(d.items(), key=operator.itemgetter(1), reverse=True)\n",
    "\n",
    "print sorted_dict[:10]"
   ]
  },
  {
   "cell_type": "code",
   "execution_count": 47,
   "metadata": {
    "collapsed": false
   },
   "outputs": [
    {
     "name": "stdout",
     "output_type": "stream",
     "text": [
      "[(('China', 'Han Chinese'), 1245058800.0), (('India', 'Dravidian'), 302713744.25), (('United States', 'European'), 254958101.97759998), (('Nigeria', 'African'), 162651570.84), (('Bangladesh', 'Bengali'), 146776916.72), (('Japan', 'Japanese'), 126534212.00000001), (('Russia', 'Russian'), 114646210.938), (('Indonesia', 'Javanese'), 113456006.10000001), (('Brazil', 'European'), 108886717.794), (('Vietnam', 'Viet/Kinh'), 76078375.3)]\n",
      "10\n"
     ]
    }
   ],
   "source": [
    "document = ET.parse( './data/mondial_database.xml' )\n",
    "d = {}\n",
    "for country in document.iterfind('country'):\n",
    "    if country.find('./ethnicgroup[1][@percentage]') is None:\n",
    "        pass\n",
    "    else:\n",
    "        lastpop = int(country.find('./population[last()]').text)\n",
    "        ethnic = country.find('./ethnicgroup[1]')\n",
    "        ethnicname = ethnic.text\n",
    "        ethicperc = float(ethnic.get('percentage'))/100\n",
    "        #print country.find('name').text, ethnicname\n",
    "        #print lastpop * ethicperc\n",
    "        d[country.find('name').text, ethnicname] = lastpop * ethicperc\n",
    "  \n",
    "sorted_d = sorted(d.items(), key=operator.itemgetter(1), reverse=True)[:10]\n",
    "print sorted_d\n",
    "print len(sorted_d)"
   ]
  },
  {
   "cell_type": "code",
   "execution_count": 49,
   "metadata": {
    "collapsed": false
   },
   "outputs": [
    {
     "name": "stdout",
     "output_type": "stream",
     "text": [
      "[(('river-Amazonas', 'CO BR PE'), 6448.0)]\n"
     ]
    }
   ],
   "source": [
    "# name and country of a) longest river\n",
    "d = {}\n",
    "for river in document.iterfind('river'):\n",
    "    name = river.get('id')\n",
    "    #print name\n",
    "    country = river.get('country')\n",
    "    #print country\n",
    "    length = river.find('./length')\n",
    "    if length is None:\n",
    "        pass\n",
    "    else:\n",
    "        #print float(length.text)\n",
    "        d[name, country]=float(length.text)\n",
    "    \n",
    "sorted_d = sorted(d.items(), key=operator.itemgetter(1), reverse=True)[:1]\n",
    "print sorted_d"
   ]
  },
  {
   "cell_type": "code",
   "execution_count": 50,
   "metadata": {
    "collapsed": false
   },
   "outputs": [
    {
     "name": "stdout",
     "output_type": "stream",
     "text": [
      "[(('lake-KaspischesMeer', 'R AZ KAZ IR TM'), 386400.0)]\n"
     ]
    }
   ],
   "source": [
    "# name and country of b) largest lake\n",
    "d = {}\n",
    "for lake in document.iterfind('lake'):\n",
    "    name = lake.get('id')\n",
    "    #print name\n",
    "    country = lake.get('country')\n",
    "    #print country\n",
    "    area = lake.find('./area')\n",
    "    if area is None:\n",
    "        pass\n",
    "    else:\n",
    "        #print float(area.text)\n",
    "        d[name, country]=float(area.text)\n",
    "\n",
    "sorted_d = sorted(d.items(), key=operator.itemgetter(1), reverse=True)[:1]\n",
    "print sorted_d\n"
   ]
  },
  {
   "cell_type": "code",
   "execution_count": 51,
   "metadata": {
    "collapsed": false
   },
   "outputs": [
    {
     "name": "stdout",
     "output_type": "stream",
     "text": [
      "[(('LPB', 'BOL'), 4063.0)]\n"
     ]
    }
   ],
   "source": [
    "# name and country of c) airport at highest elevation\n",
    "d = {}\n",
    "for airport in document.iterfind('airport'):\n",
    "    name = airport.get('iatacode')\n",
    "    #print name\n",
    "    country = airport.get('country')\n",
    "    #print country\n",
    "    elevation = airport.findtext('./elevation')\n",
    "    #print type(elevation)\n",
    "    if elevation is None:\n",
    "        pass\n",
    "    elif elevation=='':\n",
    "        pass\n",
    "    else:\n",
    "        #print float(elevation)\n",
    "        d[name, country]=float(elevation)\n",
    "\n",
    "sorted_d = sorted(d.items(), key=operator.itemgetter(1), reverse=True)[:1]\n",
    "print sorted_d      "
   ]
  },
  {
   "cell_type": "code",
   "execution_count": null,
   "metadata": {
    "collapsed": true
   },
   "outputs": [],
   "source": []
  }
 ],
 "metadata": {
  "kernelspec": {
   "display_name": "Python 2",
   "language": "python",
   "name": "python2"
  },
  "language_info": {
   "codemirror_mode": {
    "name": "ipython",
    "version": 2
   },
   "file_extension": ".py",
   "mimetype": "text/x-python",
   "name": "python",
   "nbconvert_exporter": "python",
   "pygments_lexer": "ipython2",
   "version": "2.7.11"
  }
 },
 "nbformat": 4,
 "nbformat_minor": 0
}
